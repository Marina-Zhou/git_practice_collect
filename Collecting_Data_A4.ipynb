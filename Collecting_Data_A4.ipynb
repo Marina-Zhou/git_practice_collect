{
 "cells": [
  {
   "cell_type": "code",
   "execution_count": 54,
   "id": "77a213b8",
   "metadata": {},
   "outputs": [
    {
     "data": {
      "text/html": [
       "<div>\n",
       "<style scoped>\n",
       "    .dataframe tbody tr th:only-of-type {\n",
       "        vertical-align: middle;\n",
       "    }\n",
       "\n",
       "    .dataframe tbody tr th {\n",
       "        vertical-align: top;\n",
       "    }\n",
       "\n",
       "    .dataframe thead th {\n",
       "        text-align: right;\n",
       "    }\n",
       "</style>\n",
       "<table border=\"1\" class=\"dataframe\">\n",
       "  <thead>\n",
       "    <tr style=\"text-align: right;\">\n",
       "      <th></th>\n",
       "      <th>id</th>\n",
       "      <th>name</th>\n",
       "      <th>gender</th>\n",
       "      <th>dates</th>\n",
       "      <th>yearOfBirth</th>\n",
       "      <th>yearOfDeath</th>\n",
       "      <th>placeOfBirth</th>\n",
       "      <th>placeOfDeath</th>\n",
       "      <th>url</th>\n",
       "    </tr>\n",
       "  </thead>\n",
       "  <tbody>\n",
       "    <tr>\n",
       "      <th>0</th>\n",
       "      <td>10093</td>\n",
       "      <td>Abakanowicz, Magdalena</td>\n",
       "      <td>Female</td>\n",
       "      <td>born 1930</td>\n",
       "      <td>1930.0</td>\n",
       "      <td>NaN</td>\n",
       "      <td>Polska</td>\n",
       "      <td>NaN</td>\n",
       "      <td>http://www.tate.org.uk/art/artists/magdalena-a...</td>\n",
       "    </tr>\n",
       "    <tr>\n",
       "      <th>1</th>\n",
       "      <td>0</td>\n",
       "      <td>Abbey, Edwin Austin</td>\n",
       "      <td>Male</td>\n",
       "      <td>1852–1911</td>\n",
       "      <td>1852.0</td>\n",
       "      <td>1911.0</td>\n",
       "      <td>Philadelphia, United States</td>\n",
       "      <td>London, United Kingdom</td>\n",
       "      <td>http://www.tate.org.uk/art/artists/edwin-austi...</td>\n",
       "    </tr>\n",
       "    <tr>\n",
       "      <th>2</th>\n",
       "      <td>2756</td>\n",
       "      <td>Abbott, Berenice</td>\n",
       "      <td>Female</td>\n",
       "      <td>1898–1991</td>\n",
       "      <td>1898.0</td>\n",
       "      <td>1991.0</td>\n",
       "      <td>Springfield, United States</td>\n",
       "      <td>Monson, United States</td>\n",
       "      <td>http://www.tate.org.uk/art/artists/berenice-ab...</td>\n",
       "    </tr>\n",
       "    <tr>\n",
       "      <th>3</th>\n",
       "      <td>1</td>\n",
       "      <td>Abbott, Lemuel Francis</td>\n",
       "      <td>Male</td>\n",
       "      <td>1760–1803</td>\n",
       "      <td>1760.0</td>\n",
       "      <td>1803.0</td>\n",
       "      <td>Leicestershire, United Kingdom</td>\n",
       "      <td>London, United Kingdom</td>\n",
       "      <td>http://www.tate.org.uk/art/artists/lemuel-fran...</td>\n",
       "    </tr>\n",
       "    <tr>\n",
       "      <th>4</th>\n",
       "      <td>622</td>\n",
       "      <td>Abrahams, Ivor</td>\n",
       "      <td>Male</td>\n",
       "      <td>born 1935</td>\n",
       "      <td>1935.0</td>\n",
       "      <td>NaN</td>\n",
       "      <td>Wigan, United Kingdom</td>\n",
       "      <td>NaN</td>\n",
       "      <td>http://www.tate.org.uk/art/artists/ivor-abraha...</td>\n",
       "    </tr>\n",
       "    <tr>\n",
       "      <th>...</th>\n",
       "      <td>...</td>\n",
       "      <td>...</td>\n",
       "      <td>...</td>\n",
       "      <td>...</td>\n",
       "      <td>...</td>\n",
       "      <td>...</td>\n",
       "      <td>...</td>\n",
       "      <td>...</td>\n",
       "      <td>...</td>\n",
       "    </tr>\n",
       "    <tr>\n",
       "      <th>3527</th>\n",
       "      <td>12542</td>\n",
       "      <td>Zorio, Gilberto</td>\n",
       "      <td>Male</td>\n",
       "      <td>born 1944</td>\n",
       "      <td>1944.0</td>\n",
       "      <td>NaN</td>\n",
       "      <td>Andorno Micca, Italia</td>\n",
       "      <td>NaN</td>\n",
       "      <td>http://www.tate.org.uk/art/artists/gilberto-zo...</td>\n",
       "    </tr>\n",
       "    <tr>\n",
       "      <th>3528</th>\n",
       "      <td>2186</td>\n",
       "      <td>Zox, Larry</td>\n",
       "      <td>Male</td>\n",
       "      <td>born 1936</td>\n",
       "      <td>1936.0</td>\n",
       "      <td>NaN</td>\n",
       "      <td>Des Moines, United States</td>\n",
       "      <td>NaN</td>\n",
       "      <td>http://www.tate.org.uk/art/artists/larry-zox-2186</td>\n",
       "    </tr>\n",
       "    <tr>\n",
       "      <th>3529</th>\n",
       "      <td>621</td>\n",
       "      <td>Zuccarelli, Francesco</td>\n",
       "      <td>Male</td>\n",
       "      <td>1702–1788</td>\n",
       "      <td>1702.0</td>\n",
       "      <td>1788.0</td>\n",
       "      <td>Italia</td>\n",
       "      <td>Firenze</td>\n",
       "      <td>http://www.tate.org.uk/art/artists/francesco-z...</td>\n",
       "    </tr>\n",
       "    <tr>\n",
       "      <th>3530</th>\n",
       "      <td>2187</td>\n",
       "      <td>Zuloaga, Ignacio</td>\n",
       "      <td>Male</td>\n",
       "      <td>1870–1945</td>\n",
       "      <td>1870.0</td>\n",
       "      <td>1945.0</td>\n",
       "      <td>España</td>\n",
       "      <td>España</td>\n",
       "      <td>http://www.tate.org.uk/art/artists/ignacio-zul...</td>\n",
       "    </tr>\n",
       "    <tr>\n",
       "      <th>3531</th>\n",
       "      <td>2188</td>\n",
       "      <td>Zyw, Aleksander</td>\n",
       "      <td>Male</td>\n",
       "      <td>1905–1995</td>\n",
       "      <td>1905.0</td>\n",
       "      <td>1995.0</td>\n",
       "      <td>Polska</td>\n",
       "      <td>NaN</td>\n",
       "      <td>http://www.tate.org.uk/art/artists/aleksander-...</td>\n",
       "    </tr>\n",
       "  </tbody>\n",
       "</table>\n",
       "<p>3532 rows × 9 columns</p>\n",
       "</div>"
      ],
      "text/plain": [
       "         id                    name  gender      dates  yearOfBirth  \\\n",
       "0     10093  Abakanowicz, Magdalena  Female  born 1930       1930.0   \n",
       "1         0     Abbey, Edwin Austin    Male  1852–1911       1852.0   \n",
       "2      2756        Abbott, Berenice  Female  1898–1991       1898.0   \n",
       "3         1  Abbott, Lemuel Francis    Male  1760–1803       1760.0   \n",
       "4       622          Abrahams, Ivor    Male  born 1935       1935.0   \n",
       "...     ...                     ...     ...        ...          ...   \n",
       "3527  12542         Zorio, Gilberto    Male  born 1944       1944.0   \n",
       "3528   2186              Zox, Larry    Male  born 1936       1936.0   \n",
       "3529    621   Zuccarelli, Francesco    Male  1702–1788       1702.0   \n",
       "3530   2187        Zuloaga, Ignacio    Male  1870–1945       1870.0   \n",
       "3531   2188         Zyw, Aleksander    Male  1905–1995       1905.0   \n",
       "\n",
       "      yearOfDeath                    placeOfBirth            placeOfDeath  \\\n",
       "0             NaN                          Polska                     NaN   \n",
       "1          1911.0     Philadelphia, United States  London, United Kingdom   \n",
       "2          1991.0      Springfield, United States   Monson, United States   \n",
       "3          1803.0  Leicestershire, United Kingdom  London, United Kingdom   \n",
       "4             NaN           Wigan, United Kingdom                     NaN   \n",
       "...           ...                             ...                     ...   \n",
       "3527          NaN           Andorno Micca, Italia                     NaN   \n",
       "3528          NaN       Des Moines, United States                     NaN   \n",
       "3529       1788.0                          Italia                 Firenze   \n",
       "3530       1945.0                          España                  España   \n",
       "3531       1995.0                          Polska                     NaN   \n",
       "\n",
       "                                                    url  \n",
       "0     http://www.tate.org.uk/art/artists/magdalena-a...  \n",
       "1     http://www.tate.org.uk/art/artists/edwin-austi...  \n",
       "2     http://www.tate.org.uk/art/artists/berenice-ab...  \n",
       "3     http://www.tate.org.uk/art/artists/lemuel-fran...  \n",
       "4     http://www.tate.org.uk/art/artists/ivor-abraha...  \n",
       "...                                                 ...  \n",
       "3527  http://www.tate.org.uk/art/artists/gilberto-zo...  \n",
       "3528  http://www.tate.org.uk/art/artists/larry-zox-2186  \n",
       "3529  http://www.tate.org.uk/art/artists/francesco-z...  \n",
       "3530  http://www.tate.org.uk/art/artists/ignacio-zul...  \n",
       "3531  http://www.tate.org.uk/art/artists/aleksander-...  \n",
       "\n",
       "[3532 rows x 9 columns]"
      ]
     },
     "execution_count": 54,
     "metadata": {},
     "output_type": "execute_result"
    }
   ],
   "source": [
    "import pandas as pd\n",
    "pd.options.display.max_rows = 100\n",
    "artist_df = pd.read_csv('artist_data.csv', delimiter=\",\", encoding='utf-8')\n",
    "artist_df"
   ]
  },
  {
   "cell_type": "code",
   "execution_count": 14,
   "id": "2c8cbcf6",
   "metadata": {},
   "outputs": [
    {
     "data": {
      "text/plain": [
       "id                int64\n",
       "name             object\n",
       "gender           object\n",
       "yearOfBirth     float64\n",
       "yearOfDeath     float64\n",
       "placeOfBirth     object\n",
       "placeOfDeath     object\n",
       "url              object\n",
       "dtype: object"
      ]
     },
     "execution_count": 14,
     "metadata": {},
     "output_type": "execute_result"
    }
   ],
   "source": [
    "artist_df.dtypes"
   ]
  },
  {
   "cell_type": "code",
   "execution_count": 6,
   "id": "39f50f89",
   "metadata": {},
   "outputs": [
    {
     "data": {
      "text/plain": [
       "0       False\n",
       "1       False\n",
       "2       False\n",
       "3       False\n",
       "4       False\n",
       "        ...  \n",
       "3527    False\n",
       "3528    False\n",
       "3529    False\n",
       "3530    False\n",
       "3531    False\n",
       "Length: 3532, dtype: bool"
      ]
     },
     "execution_count": 6,
     "metadata": {},
     "output_type": "execute_result"
    }
   ],
   "source": [
    "artist_df.duplicated(keep=False)"
   ]
  },
  {
   "cell_type": "code",
   "execution_count": 7,
   "id": "63c8bd26",
   "metadata": {},
   "outputs": [
    {
     "data": {
      "text/html": [
       "<div>\n",
       "<style scoped>\n",
       "    .dataframe tbody tr th:only-of-type {\n",
       "        vertical-align: middle;\n",
       "    }\n",
       "\n",
       "    .dataframe tbody tr th {\n",
       "        vertical-align: top;\n",
       "    }\n",
       "\n",
       "    .dataframe thead th {\n",
       "        text-align: right;\n",
       "    }\n",
       "</style>\n",
       "<table border=\"1\" class=\"dataframe\">\n",
       "  <thead>\n",
       "    <tr style=\"text-align: right;\">\n",
       "      <th></th>\n",
       "      <th>id</th>\n",
       "      <th>name</th>\n",
       "      <th>gender</th>\n",
       "      <th>dates</th>\n",
       "      <th>yearOfBirth</th>\n",
       "      <th>yearOfDeath</th>\n",
       "      <th>placeOfBirth</th>\n",
       "      <th>placeOfDeath</th>\n",
       "      <th>url</th>\n",
       "    </tr>\n",
       "  </thead>\n",
       "  <tbody>\n",
       "    <tr>\n",
       "      <th>count</th>\n",
       "      <td>3532.000000</td>\n",
       "      <td>3532</td>\n",
       "      <td>3416</td>\n",
       "      <td>3470</td>\n",
       "      <td>3472.000000</td>\n",
       "      <td>2228.000000</td>\n",
       "      <td>3040</td>\n",
       "      <td>1453</td>\n",
       "      <td>3532</td>\n",
       "    </tr>\n",
       "    <tr>\n",
       "      <th>unique</th>\n",
       "      <td>NaN</td>\n",
       "      <td>3526</td>\n",
       "      <td>2</td>\n",
       "      <td>2104</td>\n",
       "      <td>NaN</td>\n",
       "      <td>NaN</td>\n",
       "      <td>1263</td>\n",
       "      <td>515</td>\n",
       "      <td>3532</td>\n",
       "    </tr>\n",
       "    <tr>\n",
       "      <th>top</th>\n",
       "      <td>NaN</td>\n",
       "      <td>Stokes, Adrian</td>\n",
       "      <td>Male</td>\n",
       "      <td>born 1967</td>\n",
       "      <td>NaN</td>\n",
       "      <td>NaN</td>\n",
       "      <td>London, United Kingdom</td>\n",
       "      <td>London, United Kingdom</td>\n",
       "      <td>http://www.tate.org.uk/art/artists/magdalena-a...</td>\n",
       "    </tr>\n",
       "    <tr>\n",
       "      <th>freq</th>\n",
       "      <td>NaN</td>\n",
       "      <td>2</td>\n",
       "      <td>2895</td>\n",
       "      <td>42</td>\n",
       "      <td>NaN</td>\n",
       "      <td>NaN</td>\n",
       "      <td>446</td>\n",
       "      <td>443</td>\n",
       "      <td>1</td>\n",
       "    </tr>\n",
       "    <tr>\n",
       "      <th>mean</th>\n",
       "      <td>3330.331257</td>\n",
       "      <td>NaN</td>\n",
       "      <td>NaN</td>\n",
       "      <td>NaN</td>\n",
       "      <td>1887.001440</td>\n",
       "      <td>1921.356822</td>\n",
       "      <td>NaN</td>\n",
       "      <td>NaN</td>\n",
       "      <td>NaN</td>\n",
       "    </tr>\n",
       "    <tr>\n",
       "      <th>std</th>\n",
       "      <td>4160.172543</td>\n",
       "      <td>NaN</td>\n",
       "      <td>NaN</td>\n",
       "      <td>NaN</td>\n",
       "      <td>77.140335</td>\n",
       "      <td>79.520671</td>\n",
       "      <td>NaN</td>\n",
       "      <td>NaN</td>\n",
       "      <td>NaN</td>\n",
       "    </tr>\n",
       "    <tr>\n",
       "      <th>min</th>\n",
       "      <td>0.000000</td>\n",
       "      <td>NaN</td>\n",
       "      <td>NaN</td>\n",
       "      <td>NaN</td>\n",
       "      <td>1497.000000</td>\n",
       "      <td>1543.000000</td>\n",
       "      <td>NaN</td>\n",
       "      <td>NaN</td>\n",
       "      <td>NaN</td>\n",
       "    </tr>\n",
       "    <tr>\n",
       "      <th>25%</th>\n",
       "      <td>885.750000</td>\n",
       "      <td>NaN</td>\n",
       "      <td>NaN</td>\n",
       "      <td>NaN</td>\n",
       "      <td>1855.000000</td>\n",
       "      <td>1876.000000</td>\n",
       "      <td>NaN</td>\n",
       "      <td>NaN</td>\n",
       "      <td>NaN</td>\n",
       "    </tr>\n",
       "    <tr>\n",
       "      <th>50%</th>\n",
       "      <td>1772.500000</td>\n",
       "      <td>NaN</td>\n",
       "      <td>NaN</td>\n",
       "      <td>NaN</td>\n",
       "      <td>1910.000000</td>\n",
       "      <td>1944.000000</td>\n",
       "      <td>NaN</td>\n",
       "      <td>NaN</td>\n",
       "      <td>NaN</td>\n",
       "    </tr>\n",
       "    <tr>\n",
       "      <th>75%</th>\n",
       "      <td>2676.250000</td>\n",
       "      <td>NaN</td>\n",
       "      <td>NaN</td>\n",
       "      <td>NaN</td>\n",
       "      <td>1941.000000</td>\n",
       "      <td>1983.000000</td>\n",
       "      <td>NaN</td>\n",
       "      <td>NaN</td>\n",
       "      <td>NaN</td>\n",
       "    </tr>\n",
       "    <tr>\n",
       "      <th>max</th>\n",
       "      <td>18896.000000</td>\n",
       "      <td>NaN</td>\n",
       "      <td>NaN</td>\n",
       "      <td>NaN</td>\n",
       "      <td>2004.000000</td>\n",
       "      <td>2014.000000</td>\n",
       "      <td>NaN</td>\n",
       "      <td>NaN</td>\n",
       "      <td>NaN</td>\n",
       "    </tr>\n",
       "  </tbody>\n",
       "</table>\n",
       "</div>"
      ],
      "text/plain": [
       "                  id            name gender      dates  yearOfBirth  \\\n",
       "count    3532.000000            3532   3416       3470  3472.000000   \n",
       "unique           NaN            3526      2       2104          NaN   \n",
       "top              NaN  Stokes, Adrian   Male  born 1967          NaN   \n",
       "freq             NaN               2   2895         42          NaN   \n",
       "mean     3330.331257             NaN    NaN        NaN  1887.001440   \n",
       "std      4160.172543             NaN    NaN        NaN    77.140335   \n",
       "min         0.000000             NaN    NaN        NaN  1497.000000   \n",
       "25%       885.750000             NaN    NaN        NaN  1855.000000   \n",
       "50%      1772.500000             NaN    NaN        NaN  1910.000000   \n",
       "75%      2676.250000             NaN    NaN        NaN  1941.000000   \n",
       "max     18896.000000             NaN    NaN        NaN  2004.000000   \n",
       "\n",
       "        yearOfDeath            placeOfBirth            placeOfDeath  \\\n",
       "count   2228.000000                    3040                    1453   \n",
       "unique          NaN                    1263                     515   \n",
       "top             NaN  London, United Kingdom  London, United Kingdom   \n",
       "freq            NaN                     446                     443   \n",
       "mean    1921.356822                     NaN                     NaN   \n",
       "std       79.520671                     NaN                     NaN   \n",
       "min     1543.000000                     NaN                     NaN   \n",
       "25%     1876.000000                     NaN                     NaN   \n",
       "50%     1944.000000                     NaN                     NaN   \n",
       "75%     1983.000000                     NaN                     NaN   \n",
       "max     2014.000000                     NaN                     NaN   \n",
       "\n",
       "                                                      url  \n",
       "count                                                3532  \n",
       "unique                                               3532  \n",
       "top     http://www.tate.org.uk/art/artists/magdalena-a...  \n",
       "freq                                                    1  \n",
       "mean                                                  NaN  \n",
       "std                                                   NaN  \n",
       "min                                                   NaN  \n",
       "25%                                                   NaN  \n",
       "50%                                                   NaN  \n",
       "75%                                                   NaN  \n",
       "max                                                   NaN  "
      ]
     },
     "execution_count": 7,
     "metadata": {},
     "output_type": "execute_result"
    }
   ],
   "source": [
    "artist_df.describe(include='all')"
   ]
  },
  {
   "cell_type": "code",
   "execution_count": 13,
   "id": "917013e0",
   "metadata": {},
   "outputs": [],
   "source": [
    "artist_df = artist_df.drop('dates',axis=1) "
   ]
  },
  {
   "cell_type": "code",
   "execution_count": 47,
   "id": "b98afa1d",
   "metadata": {},
   "outputs": [],
   "source": [
    "female_artist_df = artist_df[artist_df['gender'] == 'Female']\n",
    "male_artist_df = artist_df[artist_df['gender'] == 'Male']"
   ]
  },
  {
   "cell_type": "code",
   "execution_count": 51,
   "id": "380eaa46",
   "metadata": {},
   "outputs": [
    {
     "data": {
      "text/plain": [
       "array([[<AxesSubplot:title={'center':'yearOfBirth'}>,\n",
       "        <AxesSubplot:title={'center':'yearOfDeath'}>]], dtype=object)"
      ]
     },
     "execution_count": 51,
     "metadata": {},
     "output_type": "execute_result"
    },
    {
     "data": {
      "image/png": "[encoded data removed]",
      "text/plain": [
       "<Figure size 720x360 with 2 Axes>"
      ]
     },
     "metadata": {
      "needs_background": "light"
     },
     "output_type": "display_data"
    }
   ],
   "source": [
    "artist_df.hist(figsize=(10,5))\n",
    "#Most of the artists were born in between 1900 to 1950.\n",
    "#Most of the artists were dead in between 1967 to 2012."
   ]
  },
  {
   "cell_type": "code",
   "execution_count": 50,
   "id": "de6d8ae4",
   "metadata": {},
   "outputs": [
    {
     "data": {
      "text/plain": [
       "array([[<AxesSubplot:title={'center':'yearOfBirth'}>,\n",
       "        <AxesSubplot:title={'center':'yearOfDeath'}>]], dtype=object)"
      ]
     },
     "execution_count": 50,
     "metadata": {},
     "output_type": "execute_result"
    },
    {
     "data": {
      "image/png": "[encoded data removed]",
      "text/plain": [
       "<Figure size 720x360 with 2 Axes>"
      ]
     },
     "metadata": {
      "needs_background": "light"
     },
     "output_type": "display_data"
    }
   ],
   "source": [
    "female_artist_df.hist(figsize=(10,5))\n",
    "#Most of the female artists were born in between 1948 to 1978.\n",
    "#Most of the female artists were dead in between 1988 to 2020."
   ]
  },
  {
   "cell_type": "code",
   "execution_count": 49,
   "id": "f1c6535f",
   "metadata": {},
   "outputs": [
    {
     "data": {
      "text/plain": [
       "array([[<AxesSubplot:title={'center':'yearOfBirth'}>,\n",
       "        <AxesSubplot:title={'center':'yearOfDeath'}>]], dtype=object)"
      ]
     },
     "execution_count": 49,
     "metadata": {},
     "output_type": "execute_result"
    },
    {
     "data": {
      "image/png": "[encoded data removed]",
      "text/plain": [
       "<Figure size 720x360 with 2 Axes>"
      ]
     },
     "metadata": {
      "needs_background": "light"
     },
     "output_type": "display_data"
    }
   ],
   "source": [
    "male_artist_df.hist(figsize=(10,5))\n",
    "#Most of the male artists were born in between 1900 to 1950.\n",
    "#Most of the male artists were dead in between 1967 to 2016."
   ]
  },
  {
   "cell_type": "code",
   "execution_count": 68,
   "id": "3e12b294",
   "metadata": {},
   "outputs": [],
   "source": [
    "artist_by_birth_country = artist_df.groupby('placeOfBirth')['name'].count()\n",
    "female_by_birth_country = female_artist_df.groupby('placeOfBirth')['name'].count()\n",
    "male_by_birth_country = male_artist_df.groupby('placeOfBirth')['name'].count()"
   ]
  },
  {
   "cell_type": "code",
   "execution_count": 75,
   "id": "05c8358f",
   "metadata": {},
   "outputs": [],
   "source": [
    "artist_top10 = artist_by_birth_country.sort_values(ascending=False)[:10]\n",
    "female_top10 = female_by_birth_country.sort_values(ascending=False)[:10]\n",
    "male_top10 = male_by_birth_country.sort_values(ascending=False)[:10]"
   ]
  },
  {
   "cell_type": "code",
   "execution_count": 76,
   "id": "a853258d",
   "metadata": {},
   "outputs": [
    {
     "data": {
      "text/plain": [
       "<AxesSubplot:xlabel='placeOfBirth'>"
      ]
     },
     "execution_count": 76,
     "metadata": {},
     "output_type": "execute_result"
    },
    {
     "data": {
      "image/png": "[encoded data removed]",
      "text/plain": [
       "<Figure size 432x288 with 1 Axes>"
      ]
     },
     "metadata": {
      "needs_background": "light"
     },
     "output_type": "display_data"
    }
   ],
   "source": [
    "artist_top10.plot(kind='bar')"
   ]
  },
  {
   "cell_type": "code",
   "execution_count": 77,
   "id": "7663d2a9",
   "metadata": {},
   "outputs": [
    {
     "data": {
      "text/plain": [
       "<AxesSubplot:xlabel='placeOfBirth'>"
      ]
     },
     "execution_count": 77,
     "metadata": {},
     "output_type": "execute_result"
    },
    {
     "data": {
      "image/png": "[encoded data removed]",
      "text/plain": [
       "<Figure size 432x288 with 1 Axes>"
      ]
     },
     "metadata": {
      "needs_background": "light"
     },
     "output_type": "display_data"
    }
   ],
   "source": [
    "female_top10.plot(kind='bar')"
   ]
  },
  {
   "cell_type": "code",
   "execution_count": 78,
   "id": "511532fc",
   "metadata": {},
   "outputs": [
    {
     "data": {
      "text/plain": [
       "<AxesSubplot:xlabel='placeOfBirth'>"
      ]
     },
     "execution_count": 78,
     "metadata": {},
     "output_type": "execute_result"
    },
    {
     "data": {
      "image/png": "[encoded data removed]",
      "text/plain": [
       "<Figure size 432x288 with 1 Axes>"
      ]
     },
     "metadata": {
      "needs_background": "light"
     },
     "output_type": "display_data"
    }
   ],
   "source": [
    "male_top10.plot(kind='bar')"
   ]
  },
  {
   "cell_type": "code",
   "execution_count": 99,
   "id": "c47dbde5",
   "metadata": {},
   "outputs": [],
   "source": [
    "female_top10_count = female_top10.reset_index().rename(columns = {'name':'count'})\n",
    "male_top10_count = male_top10.reset_index().rename(columns = {'name':'count'})"
   ]
  },
  {
   "cell_type": "code",
   "execution_count": 108,
   "id": "d2c72e73",
   "metadata": {},
   "outputs": [
    {
     "data": {
      "text/plain": [
       "<AxesSubplot:xlabel='placeOfBirth', ylabel='count'>"
      ]
     },
     "execution_count": 108,
     "metadata": {},
     "output_type": "execute_result"
    },
    {
     "data": {
      "image/png": "[encoded data removed]",
      "text/plain": [
       "<Figure size 432x288 with 1 Axes>"
      ]
     },
     "metadata": {
      "needs_background": "light"
     },
     "output_type": "display_data"
    }
   ],
   "source": [
    "ax = female_top10_count.plot(kind='scatter', x='placeOfBirth', y='count', color='red')\n",
    "male_top10_count.plot(ax=ax, kind='scatter', x='placeOfBirth', y='count', color='blue')\n",
    "# The number of male artists who were born in the UK is much higher than female artists."
   ]
  },
  {
   "cell_type": "code",
   "execution_count": null,
   "id": "ad703e23",
   "metadata": {},
   "outputs": [],
   "source": []
  }
 ],
 "metadata": {
  "kernelspec": {
   "display_name": "Python 3 (ipykernel)",
   "language": "python",
   "name": "python3"
  },
  "language_info": {
   "codemirror_mode": {
    "name": "ipython",
    "version": 3
   },
   "file_extension": ".py",
   "mimetype": "text/x-python",
   "name": "python",
   "nbconvert_exporter": "python",
   "pygments_lexer": "ipython3",
   "version": "3.9.12"
  }
 },
 "nbformat": 4,
 "nbformat_minor": 5
}

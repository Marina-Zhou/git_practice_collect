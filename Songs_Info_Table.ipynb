{
 "cells": [
  {
   "cell_type": "code",
   "execution_count": 17,
   "id": "61eae956",
   "metadata": {},
   "outputs": [],
   "source": [
    "import pandas as pd\n",
    "import requests\n",
    "from bs4 import BeautifulSoup\n",
    "\n",
    "def get_songinfo(url):\n",
    "    response = requests.get(url)\n",
    "    html_string = response.text\n",
    "    document = BeautifulSoup(html_string, \"html.parser\")\n",
    "    \n",
    "    artist = document.find_all(\"b\")[0].text.split(' ')[0]\n",
    "    title = document.find_all(\"b\")[1].text\n",
    "    div_list = document.find_all(\"div\", attrs = {\"class\": None})\n",
    "    song_lyrics = max(div_list, key = len)\n",
    "    song_lyrics = song_lyrics.text.replace('\\r','').replace('\\n\\n','\\n').split('\\n')[1:-2]\n",
    "    \n",
    "    return artist, title, song_lyrics"
   ]
  },
  {
   "cell_type": "code",
   "execution_count": 18,
   "id": "fbae9b4b",
   "metadata": {},
   "outputs": [],
   "source": [
    "artist1, title1, song_lyrics1 = get_songinfo(\"https://www.azlyrics.com/lyrics/halsey/badatlove.html\")\n",
    "artist2, title2, song_lyrics2 = get_songinfo(\"https://www.azlyrics.com/lyrics/halsey/graveyard.html\")\n",
    "artist3, title3, song_lyrics3 = get_songinfo(\"https://www.azlyrics.com/lyrics/halsey/withoutme.html\")"
   ]
  },
  {
   "cell_type": "code",
   "execution_count": 19,
   "id": "c1ffd7a3",
   "metadata": {},
   "outputs": [
    {
     "data": {
      "text/html": [
       "<div>\n",
       "<style scoped>\n",
       "    .dataframe tbody tr th:only-of-type {\n",
       "        vertical-align: middle;\n",
       "    }\n",
       "\n",
       "    .dataframe tbody tr th {\n",
       "        vertical-align: top;\n",
       "    }\n",
       "\n",
       "    .dataframe thead th {\n",
       "        text-align: right;\n",
       "    }\n",
       "</style>\n",
       "<table border=\"1\" class=\"dataframe\">\n",
       "  <thead>\n",
       "    <tr style=\"text-align: right;\">\n",
       "      <th></th>\n",
       "      <th>Artist</th>\n",
       "      <th>Title</th>\n",
       "      <th>Lyrics</th>\n",
       "    </tr>\n",
       "  </thead>\n",
       "  <tbody>\n",
       "    <tr>\n",
       "      <th>0</th>\n",
       "      <td>Halsey</td>\n",
       "      <td>\"Bad At Love\"</td>\n",
       "      <td>[Got a boy back home in Michigan, And he taste...</td>\n",
       "    </tr>\n",
       "    <tr>\n",
       "      <th>1</th>\n",
       "      <td>Halsey</td>\n",
       "      <td>\"Graveyard\"</td>\n",
       "      <td>[It's crazy when, The thing you love the most,...</td>\n",
       "    </tr>\n",
       "    <tr>\n",
       "      <th>2</th>\n",
       "      <td>Halsey</td>\n",
       "      <td>\"Without Me\"</td>\n",
       "      <td>[Found you when your heart was broke, I filled...</td>\n",
       "    </tr>\n",
       "  </tbody>\n",
       "</table>\n",
       "</div>"
      ],
      "text/plain": [
       "   Artist          Title                                             Lyrics\n",
       "0  Halsey  \"Bad At Love\"  [Got a boy back home in Michigan, And he taste...\n",
       "1  Halsey    \"Graveyard\"  [It's crazy when, The thing you love the most,...\n",
       "2  Halsey   \"Without Me\"  [Found you when your heart was broke, I filled..."
      ]
     },
     "execution_count": 19,
     "metadata": {},
     "output_type": "execute_result"
    }
   ],
   "source": [
    "data = [[artist1, title1, song_lyrics1],[artist2, title2, song_lyrics2],[artist3, title3, song_lyrics3]]\n",
    "df = pd.DataFrame(data,columns=['Artist','Title','Lyrics'])\n",
    "df"
   ]
  },
  {
   "cell_type": "code",
   "execution_count": null,
   "id": "5d79d3cf",
   "metadata": {},
   "outputs": [],
   "source": []
  }
 ],
 "metadata": {
  "kernelspec": {
   "display_name": "Python 3 (ipykernel)",
   "language": "python",
   "name": "python3"
  },
  "language_info": {
   "codemirror_mode": {
    "name": "ipython",
    "version": 3
   },
   "file_extension": ".py",
   "mimetype": "text/x-python",
   "name": "python",
   "nbconvert_exporter": "python",
   "pygments_lexer": "ipython3",
   "version": "3.9.12"
  }
 },
 "nbformat": 4,
 "nbformat_minor": 5
}
